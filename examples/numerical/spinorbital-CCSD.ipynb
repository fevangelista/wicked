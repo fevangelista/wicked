{
 "cells": [
  {
   "cell_type": "markdown",
   "id": "81579bfa",
   "metadata": {},
   "source": [
    "# CCSD theory for a closed-shell reference\n",
    "\n",
    "In this notebook we will use wicked to generate and implement equations for the CCSD method.\n",
    "To simplify this notebook some of the utility functions are imported from the file `examples_helpers.py`.\n",
    "In this example, we run a CCSD computation on the H<sub>6</sub> molecule, reading all the relevant information from the file `sr-h2o-cc-pvdz-spinorbital.npy`."
   ]
  },
  {
   "cell_type": "code",
   "execution_count": 1,
   "id": "caa5d04c",
   "metadata": {},
   "outputs": [],
   "source": [
    "import time\n",
    "import wicked as w\n",
    "import numpy as np\n",
    "from examples_helpers import *"
   ]
  },
  {
   "cell_type": "markdown",
   "id": "1601889d",
   "metadata": {},
   "source": [
    "## Read calculation information (integrals, number of orbitals)\n",
    "\n",
    "We start by reading information about the reference state, integrals, and denominators from the file `sr-h2o-cc-pvdz-spinorbital.npy`. The variable `H` is a dictionary that holds the blocks of the Hamiltonian **normal-ordered** with respect to the Hartree–Fock determinant. `invD` similarly is a dictionary that stores the denominators $(\\epsilon_i + \\epsilon_j + \\ldots - \\epsilon_a - \\epsilon_b - \\ldots)^{-1}$."
   ]
  },
  {
   "cell_type": "code",
   "execution_count": 2,
   "id": "3f8328a7",
   "metadata": {},
   "outputs": [],
   "source": [
    "molecule = \"sr-h2o-cc-pvdz-spinorbital\"\n",
    "\n",
    "with open(f\"{molecule}.npy\", \"rb\") as f:\n",
    "    Eref = np.load(f)\n",
    "    Ecorr_ref = np.load(f)\n",
    "    nocc, nvir = np.load(f)\n",
    "    H = np.load(f, allow_pickle=True).item()\n",
    "\n",
    "invD = compute_inverse_denominators(H, nocc, nvir, 2)"
   ]
  },
  {
   "cell_type": "markdown",
   "id": "41e2d3f1",
   "metadata": {},
   "source": [
    "## Compute the MP2 energy\n",
    "\n",
    "To verify that the Hamiltonian is read correctly, we compute the MP2 correlation energy"
   ]
  },
  {
   "cell_type": "code",
   "execution_count": 3,
   "id": "afb93fee",
   "metadata": {},
   "outputs": [
    {
     "name": "stdout",
     "output_type": "stream",
     "text": [
      "MP2 correlation energy: -0.214347674279 Eh\n"
     ]
    }
   ],
   "source": [
    "# Compute the MP2 correlation energy\n",
    "Emp2 = 0.0\n",
    "for i in range(nocc):\n",
    "    for j in range(nocc):\n",
    "        for a in range(nvir):\n",
    "            for b in range(nvir):\n",
    "                Emp2 += 0.25 * H[\"oovv\"][i][j][a][b] ** 2 * invD[\"oovv\"][i][j][a][b]\n",
    "\n",
    "print(f\"MP2 correlation energy: {Emp2:.12f} Eh\")"
   ]
  },
  {
   "cell_type": "markdown",
   "id": "5b57b4a2",
   "metadata": {},
   "source": [
    "## Define orbital spaces and the Hamiltonian and cluster operators\n",
    "\n",
    "Here we define the cluster operator (`Top`) and the Hamiltonian (`Hop`) that will be used to derive the CCSD equations. We also define the similarity-transformed Hamiltonian $\\bar{H}$ truncated at the four-nested commutator:\n",
    "\n",
    "\\begin{equation}\n",
    "\\bar{H} = \\hat{H} + [\\hat{H},\\hat{T}] + \\frac{1}{2} [[\\hat{H},\\hat{T}],\\hat{T}]\n",
    "+ \\frac{1}{6} [[[\\hat{H},\\hat{T}],\\hat{T}],\\hat{T}]\n",
    "+ \\frac{1}{24} [[[[\\hat{H},\\hat{T}],\\hat{T}],\\hat{T}],\\hat{T}] + \\ldots\n",
    "\\end{equation}"
   ]
  },
  {
   "cell_type": "code",
   "execution_count": 4,
   "id": "67ccf97e",
   "metadata": {},
   "outputs": [],
   "source": [
    "w.reset_space()\n",
    "w.add_space(\"o\", \"fermion\", \"occupied\", [\"i\", \"j\", \"k\", \"l\", \"m\", \"n\"])\n",
    "w.add_space(\"v\", \"fermion\", \"unoccupied\", [\"a\", \"b\", \"c\", \"d\", \"e\", \"f\"])\n",
    "\n",
    "Top = w.op(\"T\", [\"v+ o\", \"v+ v+ o o\"], unique=False)\n",
    "Hop = w.utils.gen_op(\"H\", 1, \"ov\", \"ov\") + w.utils.gen_op(\"H\", 2, \"ov\", \"ov\")\n",
    "# the similarity-transformed Hamiltonian truncated to the four-nested commutator term\n",
    "Hbar = w.bch_series(Hop, Top, 4)"
   ]
  },
  {
   "cell_type": "markdown",
   "id": "abf2dc84",
   "metadata": {},
   "source": [
    "In the following lines, we apply Wick's theorem to simplify the similarity-transformed Hamiltonian $\\bar{H}$ computing all contributions ranging from operator rank 0 to 4 (double substitutions).\n",
    "Then we convert all the terms into many-body equations accumulated into the residual `R`."
   ]
  },
  {
   "cell_type": "code",
   "execution_count": 5,
   "id": "9c56be6b",
   "metadata": {},
   "outputs": [],
   "source": [
    "wt = w.WickTheorem()\n",
    "expr = wt.contract(w.rational(1), Hbar, 0, 4)\n",
    "mbeq = expr.to_manybody_equation(\"R\")"
   ]
  },
  {
   "cell_type": "markdown",
   "id": "7c1a291b",
   "metadata": {},
   "source": [
    "Here we finally generate the CCSD equations. We use the utility function `generate_equation` to extract the equations corresponding to a given number of creation and annihilation operators and generated Python functions that we then define with the command `exec`"
   ]
  },
  {
   "cell_type": "code",
   "execution_count": 6,
   "id": "9e117a39",
   "metadata": {},
   "outputs": [
    {
     "name": "stdout",
     "output_type": "stream",
     "text": [
      "def evaluate_residual_0_0(H,T):\n",
      "    # contributions to the residual\n",
      "    R = 0.0\n",
      "    R += 1.000000000 * np.einsum(\"ai,ia->\",H[\"vo\"],T[\"ov\"],optimize=\"optimal\")\n",
      "    R += 0.250000000 * np.einsum(\"abij,ijab->\",H[\"vvoo\"],T[\"oovv\"],optimize=\"optimal\")\n",
      "    R += 0.500000000 * np.einsum(\"abij,jb,ia->\",H[\"vvoo\"],T[\"ov\"],T[\"ov\"],optimize=\"optimal\")\n",
      "    return R\n"
     ]
    }
   ],
   "source": [
    "energy_eq = generate_equation(mbeq, 0, 0)\n",
    "t1_eq = generate_equation(mbeq, 1, 1)\n",
    "t2_eq = generate_equation(mbeq, 2, 2)\n",
    "\n",
    "exec(energy_eq)\n",
    "exec(t1_eq)\n",
    "exec(t2_eq)\n",
    "\n",
    "# show what do these functions look like\n",
    "print(energy_eq)"
   ]
  },
  {
   "cell_type": "markdown",
   "id": "e3b8cb04",
   "metadata": {},
   "source": [
    "## CCSD algorithm\n",
    "\n",
    "Here we code a simple loop in which we evaluate the energy and residuals of the CCSD equations and update the amplitudes"
   ]
  },
  {
   "cell_type": "code",
   "execution_count": 7,
   "id": "b1183237",
   "metadata": {},
   "outputs": [
    {
     "name": "stdout",
     "output_type": "stream",
     "text": [
      "-----------------------------------------------------------\n",
      "Iter.     Energy [Eh]    Corr. energy [Eh]       |R|       \n",
      "-----------------------------------------------------------\n",
      "  0    -75.989795787487    +0.000000000000    1.962660e+00\n",
      "  1    -76.204143461766    -0.214347674279    2.526930e-01\n",
      "  2    -76.207264973707    -0.217469186220    7.602154e-02\n",
      "  3    -76.211865730825    -0.222069943338    3.035113e-02\n",
      "  4    -76.212864167040    -0.223068379554    1.371958e-02\n",
      "  5    -76.213350138227    -0.223554350740    6.433935e-03\n",
      "  6    -76.213541063949    -0.223745276462    3.176255e-03\n",
      "  7    -76.213628949546    -0.223833162059    1.615380e-03\n",
      "  8    -76.213668687064    -0.223872899577    8.550421e-04\n",
      "  9    -76.213687566002    -0.223891778515    4.664256e-04\n",
      " 10    -76.213696641243    -0.223900853756    2.619370e-04\n",
      " 11    -76.213701122859    -0.223905335373    1.502973e-04\n",
      " 12    -76.213703376304    -0.223907588817    8.771325e-05\n",
      " 13    -76.213704534002    -0.223908746515    5.180429e-05\n",
      " 14    -76.213705140200    -0.223909352713    3.086025e-05\n",
      " 15    -76.213705463754    -0.223909676267    1.849340e-05\n",
      " 16    -76.213705639520    -0.223909852033    1.112873e-05\n",
      " 17    -76.213705736583    -0.223909949096    6.716354e-06\n",
      " 18    -76.213705790981    -0.223910003494    4.061686e-06\n",
      " 19    -76.213705821869    -0.223910034382    2.459812e-06\n",
      " 20    -76.213705839608    -0.223910052121    1.491215e-06\n",
      " 21    -76.213705849895    -0.223910062408    9.046790e-07\n",
      " 22    -76.213705855910    -0.223910068423    5.491314e-07\n",
      " 23    -76.213705859451    -0.223910071964    3.334439e-07\n",
      " 24    -76.213705861547    -0.223910074061    2.025299e-07\n",
      " 25    -76.213705862795    -0.223910075308    1.230392e-07\n",
      " 26    -76.213705863540    -0.223910076053    7.475889e-08\n",
      " 27    -76.213705863986    -0.223910076499    4.542869e-08\n",
      " 28    -76.213705864254    -0.223910076767    2.760791e-08\n",
      " 29    -76.213705864415    -0.223910076928    1.677891e-08\n",
      " 30    -76.213705864512    -0.223910077025    1.019799e-08\n",
      " 31    -76.213705864571    -0.223910077084    6.198415e-09\n",
      "-----------------------------------------------------------\n",
      "CCSD total energy                   -76.213705864571 [Eh]\n",
      "CCSD correlation energy             -0.223910077084 [Eh]\n",
      "Reference CCSD correlation energy   -0.223910012630 [Eh]\n",
      "Error                               -6.445447636727e-08 [Eh]\n",
      "Timing                              1.9408 [s]\n"
     ]
    }
   ],
   "source": [
    "T = {\"ov\": np.zeros((nocc, nvir)), \"oovv\": np.zeros((nocc, nocc, nvir, nvir))}\n",
    "\n",
    "header = \"Iter.     Energy [Eh]    Corr. energy [Eh]       |R|       \"\n",
    "print(\"-\" * len(header))\n",
    "print(header)\n",
    "print(\"-\" * len(header))\n",
    "\n",
    "start = time.perf_counter()\n",
    "\n",
    "maxiter = 50\n",
    "\n",
    "for i in range(maxiter):\n",
    "    # 1. compute energy and residuals\n",
    "    R = {}\n",
    "    Ecorr_w = evaluate_residual_0_0(H, T)\n",
    "    Etot_w = Eref + Ecorr_w\n",
    "    R[\"ov\"] = evaluate_residual_1_1(H, T)\n",
    "    Roovv = evaluate_residual_2_2(H, T)\n",
    "    R[\"oovv\"] = antisymmetrize_residual_2_2(Roovv, nocc, nvir)\n",
    "\n",
    "    # 2. amplitude update\n",
    "    update_cc_amplitudes(T, R, invD, 2)\n",
    "\n",
    "    # 3. check for convergence\n",
    "    norm_R = np.sqrt(np.linalg.norm(R[\"ov\"]) ** 2 + np.linalg.norm(R[\"oovv\"]) ** 2)\n",
    "    print(f\"{i:3d}    {Etot_w:+.12f}    {Ecorr_w:+.12f}    {norm_R:e}\")\n",
    "    if norm_R < 1.0e-8:\n",
    "        break\n",
    "\n",
    "end = time.perf_counter()\n",
    "t = end - start\n",
    "\n",
    "print(\"-\" * len(header))\n",
    "print(f\"CCSD total energy                   {Etot_w:+.12f} [Eh]\")\n",
    "print(f\"CCSD correlation energy             {Ecorr_w:+.12f} [Eh]\")\n",
    "print(f\"Reference CCSD correlation energy   {Ecorr_ref:+.12f} [Eh]\")\n",
    "print(f\"Error                               {Ecorr_w - Ecorr_ref:+.12e} [Eh]\")\n",
    "print(f\"Timing                              {t:.4f} [s]\")\n",
    "assert np.isclose(Ecorr_w, Ecorr_ref)"
   ]
  },
  {
   "cell_type": "markdown",
   "metadata": {},
   "source": [
    "### (Optional) Integral generation\n",
    "For completeness, we document here how `sr-h2o-cc-pvdz-spinorbital.npy` was generated. You will need to install PySCF to run the following cell. Due to the size, we do not provide the cc-pVTZ integrals in the repository, but you can generate it with the cell below and see the difference to the spin-integrated code in the other notebook."
   ]
  },
  {
   "cell_type": "code",
   "execution_count": 8,
   "metadata": {},
   "outputs": [
    {
     "name": "stdout",
     "output_type": "stream",
     "text": [
      "converged SCF energy = -75.9897957874868\n",
      "E(CCSD) = -76.21370580011657  E_corr = -0.2239100126297482\n",
      "E(MP2) = -76.2041434617656  E_corr = -0.214347674278743\n",
      "E(SCS-MP2) = -76.2010219265649  E_corr = -0.211226139078035\n"
     ]
    }
   ],
   "source": [
    "import pyscf, pyscf.cc, pyscf.mp\n",
    "\n",
    "mol = pyscf.gto.M(atom=\"\"\"\n",
    "O \n",
    "H 1 1.1\n",
    "H 1 1.1 2 104\n",
    "\"\"\", basis='cc-pvdz')\n",
    "\n",
    "mf = pyscf.scf.RHF(mol)\n",
    "_ = mf.kernel()\n",
    "cc = pyscf.cc.CCSD(mf)\n",
    "_ = cc.kernel()\n",
    "mp = pyscf.mp.MP2(mf)\n",
    "_ = mp.kernel()\n",
    "\n",
    "nocc = mol.nelectron\n",
    "nvir = (mol.nao*2 - nocc)\n",
    "\n",
    "eri = pyscf.ao2mo.full(mol.intor('int2e'), mf.mo_coeff)\n",
    "eri = eri.swapaxes(1, 2)\n",
    "\n",
    "blocks = get_index_blocks(energy_eq+t1_eq+t2_eq)\n",
    "\n",
    "V = np.zeros((mol.nao*2, mol.nao*2, mol.nao*2, mol.nao*2))\n",
    "V[::2,::2,::2,::2] = V[1::2,1::2,1::2,1::2] = eri - eri.swapaxes(2,3) # <aa||aa> and <bb||bb>\n",
    "V[::2,1::2,::2,1::2] = V[1::2,::2,1::2,::2] = eri # <ab||ab> = <ba||ba> = <ab|ab>\n",
    "V[::2,1::2,1::2,::2] = V[1::2,::2,::2,1::2] = -eri.swapaxes(2,3) # <ab||ba> = <ba||ab> = -<ab|ab>\n",
    "F_spatorb = np.diag(mf.mo_energy)\n",
    "F = np.zeros((mol.nao*2, mol.nao*2))\n",
    "F[::2,::2] = F[1::2,1::2] = F_spatorb\n",
    "sl = {'o': slice(0, nocc), 'v': slice(nocc, nocc+nvir)}\n",
    "H = {}\n",
    "for block in blocks:\n",
    "    if len(block) == 2:\n",
    "        H[block] = F[sl[block[0]], sl[block[1]]]\n",
    "    else:\n",
    "        H[block] = V[sl[block[0]], sl[block[1]], sl[block[2]], sl[block[3]]]\n",
    "\n",
    "with open('sr-h2o-cc-pvdz-spinorbital.npy', 'wb') as f:\n",
    "    np.save(f, mf.e_tot)\n",
    "    np.save(f, cc.e_corr)\n",
    "    np.save(f, (nocc,nvir))\n",
    "    np.save(f, H, allow_pickle=True)"
   ]
  },
  {
   "cell_type": "code",
   "execution_count": null,
   "metadata": {},
   "outputs": [],
   "source": []
  }
 ],
 "metadata": {
  "kernelspec": {
   "display_name": "Python 3 (ipykernel)",
   "language": "python",
   "name": "python3"
  },
  "language_info": {
   "codemirror_mode": {
    "name": "ipython",
    "version": 3
   },
   "file_extension": ".py",
   "mimetype": "text/x-python",
   "name": "python",
   "nbconvert_exporter": "python",
   "pygments_lexer": "ipython3",
   "version": "3.10.13"
  }
 },
 "nbformat": 4,
 "nbformat_minor": 5
}
