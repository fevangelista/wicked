{
 "cells": [
  {
   "cell_type": "code",
   "execution_count": 1,
   "metadata": {},
   "outputs": [],
   "source": [
    "import wicked as w\n",
    "import numpy as np\n",
    "import itertools"
   ]
  },
  {
   "cell_type": "markdown",
   "metadata": {},
   "source": [
    "## N atom cc-pVDZ basis"
   ]
  },
  {
   "cell_type": "code",
   "execution_count": 2,
   "metadata": {},
   "outputs": [
    {
     "name": "stdout",
     "output_type": "stream",
     "text": [
      "NpzFile 'save_gamma1.npz' with keys: aa, AA\n",
      "NpzFile 'save_eta1.npz' with keys: aa, AA\n",
      "NpzFile 'save_lambda2.npz' with keys: aaaa, aAaA, AAAA\n",
      "NpzFile 'save_lambda3.npz' with keys: aaaaaa, aaAaaA, aAAaAA, AAAAAA\n"
     ]
    }
   ],
   "source": [
    "gamma1 = np.load('save_gamma1.npz')\n",
    "eta1 = np.load('save_eta1.npz')\n",
    "lambda2 = np.load('save_lambda2.npz')\n",
    "lambda3 = np.load('save_lambda3.npz')\n",
    "print(gamma1)\n",
    "print(eta1)\n",
    "print(lambda2)\n",
    "print(lambda3)"
   ]
  },
  {
   "cell_type": "code",
   "execution_count": 3,
   "metadata": {},
   "outputs": [],
   "source": [
    "Hbar = np.load('save_Hbar.npz')\n",
    "Hbar = dict(Hbar)\n",
    "nocc = Hbar['cc'].shape[0]\n",
    "nact = Hbar['aa'].shape[0]\n",
    "nvir = Hbar['vv'].shape[0]"
   ]
  },
  {
   "cell_type": "code",
   "execution_count": 4,
   "metadata": {},
   "outputs": [],
   "source": [
    "w.reset_space()\n",
    "# alpha\n",
    "w.add_space('c', 'fermion', 'occupied', list('klmn'))\n",
    "w.add_space('v', 'fermion', 'unoccupied', list('efgh'))\n",
    "w.add_space('a', 'fermion', 'general', list('obqrstuvwxyz'))\n",
    "#Beta\n",
    "w.add_space('C', 'fermion', 'occupied', list('KLMN'))\n",
    "w.add_space('V', 'fermion', 'unoccupied', list('EFGH'))\n",
    "w.add_space('A', 'fermion', 'general', list('OBQRSTUVWXYZ'))\n",
    "\n",
    "wt = w.WickTheorem()\n",
    "\n",
    "s = ['c', 'a', 'C', 'A']\n",
    "\n",
    "Hops = []\n",
    "for i in itertools.product(['v+', 'a+', 'c+'],['v', 'a', 'c']):\n",
    "    Hops.append(' '.join(i))\n",
    "for i in itertools.product(['V+', 'A+', 'C+'],['V', 'A', 'C']):\n",
    "    Hops.append(' '.join(i))\n",
    "for i in itertools.product(['v+', 'a+', 'c+'],['v+', 'a+', 'c+'], ['v', 'a', 'c'], ['v', 'a', 'c']):\n",
    "    Hops.append(' '.join(i))\n",
    "for i in itertools.product(['V+', 'A+', 'C+'],['V+', 'A+', 'C+'], ['V', 'A', 'C'], ['V', 'A', 'C']):\n",
    "    Hops.append(' '.join(i))\n",
    "for i in itertools.product(['v+', 'a+', 'c+'],['V+', 'A+', 'C+'], ['v', 'a', 'c'], ['V', 'A', 'C']):\n",
    "    Hops.append(' '.join(i))\n",
    "Hbar_op = w.op(\"Hbar\", Hops, unique=True)\n",
    "\n",
    "THT = w.op('bra',s).adjoint() @ Hbar_op @ w.op('c',s)\n",
    "expr = wt.contract(THT, 0, 0)\n",
    "mbeq = expr.to_manybody_equation('sigma')"
   ]
  },
  {
   "cell_type": "code",
   "execution_count": 6,
   "metadata": {},
   "outputs": [
    {
     "name": "stdout",
     "output_type": "stream",
     "text": [
      "def build_sigma_vector_Hbar(Hbar, gamma1, eta1, lambda2, lambda3, c):\n",
      "    sigma = {}\n",
      "    for key in c.keys():\n",
      "        sigma[key] = np.zeros(c[key].shape)\n",
      "    sigma[\"c\"] += -1.00000000 * np.einsum('kl,pl->pk', Hbar[\"cc\"],c[\"c\"],optimize='optimal')\n",
      "    sigma[\"a\"] += -1.00000000 * np.einsum('ok,pk,bo->pb', Hbar[\"ac\"],c[\"c\"],gamma1[\"aa\"],optimize='optimal')\n",
      "    sigma[\"a\"] += +0.50000000 * np.einsum('obkq,pk,qrob->pr', Hbar[\"aaca\"],c[\"c\"],lambda2[\"aaaa\"],optimize='optimal')\n",
      "    sigma[\"c\"] += -1.00000000 * np.einsum('ko,pb,ob->pk', Hbar[\"ca\"],c[\"a\"],gamma1[\"aa\"],optimize='optimal')\n",
      "    sigma[\"a\"] += -1.00000000 * np.einsum('ob,pr,br,qo->pq', Hbar[\"aa\"],c[\"a\"],gamma1[\"aa\"],gamma1[\"aa\"],optimize='optimal')\n",
      "    sigma[\"a\"] += +1.00000000 * np.einsum('ob,pr,bqor->pq', Hbar[\"aa\"],c[\"a\"],lambda2[\"aaaa\"],optimize='optimal')\n",
      "    sigma[\"c\"] += +0.50000000 * np.einsum('kobq,pr,bqor->pk', Hbar[\"caaa\"],c[\"a\"],lambda2[\"aaaa\"],optimize='optimal')\n",
      "    sigma[\"a\"] += +0.50000000 * np.einsum('obqr,pt,so,qrbt->ps', Hbar[\"aaaa\"],c[\"a\"],gamma1[\"aa\"],lambda2[\"aaaa\"],optimize='optimal')\n",
      "    sigma[\"a\"] += -0.50000000 * np.einsum('obqr,pt,rt,qsob->ps', Hbar[\"aaaa\"],c[\"a\"],gamma1[\"aa\"],lambda2[\"aaaa\"],optimize='optimal')\n",
      "    sigma[\"a\"] += +0.25000000 * np.einsum('obqr,pt,qrsobt->ps', Hbar[\"aaaa\"],c[\"a\"],lambda3[\"aaaaaa\"],optimize='optimal')\n",
      "    sigma[\"C\"] += -1.00000000 * np.einsum('KL,pL->pK', Hbar[\"CC\"],c[\"C\"],optimize='optimal')\n",
      "    sigma[\"A\"] += -1.00000000 * np.einsum('OK,pK,BO->pB', Hbar[\"AC\"],c[\"C\"],gamma1[\"AA\"],optimize='optimal')\n",
      "    sigma[\"A\"] += +0.50000000 * np.einsum('OBKQ,pK,QROB->pR', Hbar[\"AACA\"],c[\"C\"],lambda2[\"AAAA\"],optimize='optimal')\n",
      "    sigma[\"C\"] += -1.00000000 * np.einsum('KO,pB,OB->pK', Hbar[\"CA\"],c[\"A\"],gamma1[\"AA\"],optimize='optimal')\n",
      "    sigma[\"A\"] += -1.00000000 * np.einsum('OB,pR,BR,QO->pQ', Hbar[\"AA\"],c[\"A\"],gamma1[\"AA\"],gamma1[\"AA\"],optimize='optimal')\n",
      "    sigma[\"A\"] += +1.00000000 * np.einsum('OB,pR,BQOR->pQ', Hbar[\"AA\"],c[\"A\"],lambda2[\"AAAA\"],optimize='optimal')\n",
      "    sigma[\"C\"] += +0.50000000 * np.einsum('KOBQ,pR,BQOR->pK', Hbar[\"CAAA\"],c[\"A\"],lambda2[\"AAAA\"],optimize='optimal')\n",
      "    sigma[\"A\"] += +0.50000000 * np.einsum('OBQR,pT,SO,QRBT->pS', Hbar[\"AAAA\"],c[\"A\"],gamma1[\"AA\"],lambda2[\"AAAA\"],optimize='optimal')\n",
      "    sigma[\"A\"] += -0.50000000 * np.einsum('OBQR,pT,RT,QSOB->pS', Hbar[\"AAAA\"],c[\"A\"],gamma1[\"AA\"],lambda2[\"AAAA\"],optimize='optimal')\n",
      "    sigma[\"A\"] += +0.25000000 * np.einsum('OBQR,pT,QRSOBT->pS', Hbar[\"AAAA\"],c[\"A\"],lambda3[\"AAAAAA\"],optimize='optimal')\n",
      "    return sigma\n"
     ]
    }
   ],
   "source": [
    "func = w.generate_sigma_build(mbeq, 'Hbar')\n",
    "print(func)"
   ]
  },
  {
   "cell_type": "markdown",
   "metadata": {},
   "source": [
    "### A simple test for the diagonal elements of the active alpha block"
   ]
  },
  {
   "cell_type": "code",
   "execution_count": 32,
   "metadata": {},
   "outputs": [
    {
     "name": "stdout",
     "output_type": "stream",
     "text": [
      "[[1. 0. 0. 0.]\n",
      " [0. 1. 0. 0.]\n",
      " [0. 0. 1. 0.]\n",
      " [0. 0. 0. 1.]]\n"
     ]
    }
   ],
   "source": [
    "c = {}\n",
    "c['a'] = np.identity(nact)\n",
    "print(c['a'])"
   ]
  },
  {
   "cell_type": "code",
   "execution_count": 43,
   "metadata": {},
   "outputs": [],
   "source": [
    "sigma = {}\n",
    "sigma['a'] = np.zeros((nact, nact))\n",
    "sigma[\"a\"] += -1.00000000 * np.einsum('ob,pr,br,qo->pq', Hbar[\"aa\"],c[\"a\"],gamma1[\"aa\"],gamma1[\"aa\"],optimize='optimal')\n",
    "sigma[\"a\"] += +1.00000000 * np.einsum('ob,pr,bqor->pq', Hbar[\"aa\"],c[\"a\"],lambda2[\"aaaa\"],optimize='optimal')\n",
    "sigma[\"a\"] += +0.50000000 * np.einsum('obqr,pt,so,qrbt->ps', Hbar[\"aaaa\"],c[\"a\"],gamma1[\"aa\"],lambda2[\"aaaa\"],optimize='optimal')\n",
    "sigma[\"a\"] += -0.50000000 * np.einsum('obqr,pt,rt,qsob->ps', Hbar[\"aaaa\"],c[\"a\"],gamma1[\"aa\"],lambda2[\"aaaa\"],optimize='optimal')\n",
    "sigma[\"a\"] += +0.25000000 * np.einsum('obqr,pt,qrsobt->ps', Hbar[\"aaaa\"],c[\"a\"],lambda3[\"aaaaaa\"],optimize='optimal')"
   ]
  },
  {
   "cell_type": "code",
   "execution_count": 44,
   "metadata": {},
   "outputs": [
    {
     "name": "stdout",
     "output_type": "stream",
     "text": [
      "[1.00135152 0.33720225 0.33720225 0.33720225]\n"
     ]
    }
   ],
   "source": [
    "print(sigma['a'].diagonal())\n",
    "# The correct value (from the spin-orbital code): [1.00135152 0.37521328 0.37521328 0.37521328]"
   ]
  },
  {
   "cell_type": "markdown",
   "metadata": {},
   "source": [
    "## These terms are missing!!!"
   ]
  },
  {
   "cell_type": "code",
   "execution_count": 45,
   "metadata": {},
   "outputs": [],
   "source": [
    "sigma[\"a\"] -= +1.00000000 * np.einsum('oBqR,pt,so,qRtB->ps', Hbar[\"aAaA\"],c[\"a\"],gamma1[\"aa\"],lambda2[\"aAaA\"],optimize='optimal')\n",
    "sigma[\"a\"] += -1.00000000 * np.einsum('bOrQ,pt,rt,sQbO->ps', Hbar[\"aAaA\"],c[\"a\"],gamma1[\"aa\"],lambda2[\"aAaA\"],optimize='optimal')\n",
    "sigma[\"a\"] += +1.00000000 * np.einsum('OBQR,pt,sQRtOB->ps', Hbar[\"AAAA\"],c[\"a\"],lambda3[\"aAAaAA\"],optimize='optimal')\n",
    "sigma[\"a\"] += +1.00000000 * np.einsum('oBqR,pt,sqRtoB->ps', Hbar[\"aAaA\"],c[\"a\"],lambda3[\"aaAaaA\"],optimize='optimal')"
   ]
  },
  {
   "cell_type": "code",
   "execution_count": 46,
   "metadata": {},
   "outputs": [
    {
     "name": "stdout",
     "output_type": "stream",
     "text": [
      "[1.00135152 0.37521328 0.37521328 0.37521328]\n"
     ]
    }
   ],
   "source": [
    "print(sigma['a'].diagonal())"
   ]
  },
  {
   "cell_type": "code",
   "execution_count": null,
   "metadata": {},
   "outputs": [],
   "source": []
  }
 ],
 "metadata": {
  "kernelspec": {
   "display_name": "forte",
   "language": "python",
   "name": "python3"
  },
  "language_info": {
   "codemirror_mode": {
    "name": "ipython",
    "version": 3
   },
   "file_extension": ".py",
   "mimetype": "text/x-python",
   "name": "python",
   "nbconvert_exporter": "python",
   "pygments_lexer": "ipython3",
   "version": "3.9.19"
  }
 },
 "nbformat": 4,
 "nbformat_minor": 2
}
