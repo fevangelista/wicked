{
 "cells": [
  {
   "cell_type": "markdown",
   "metadata": {},
   "source": [
    "# CCSDT theory for a closed-shell reference\n",
    "\n",
    "In this notebook we will use Wick\\&d to generate and implement equations for the spin-integrated CCSDT method.\n",
    "To simplify this notebook some of the utility functions are imported from the file `examples_helpers_spin_integrated.py`.\n",
    "In this example, we run a CCSDT computation on the H<sub>2</sub>O molecule, reading all the relevant information from the file `sr-h2o-cc-pvdz.npy`."
   ]
  },
  {
   "cell_type": "code",
   "execution_count": 16,
   "metadata": {},
   "outputs": [],
   "source": [
    "import time\n",
    "import wicked as w\n",
    "import numpy as np\n",
    "from examples_helpers_spin_integrated import *\n",
    "import itertools"
   ]
  },
  {
   "cell_type": "markdown",
   "metadata": {},
   "source": [
    "## Read calculation information (integrals, number of orbitals)\n",
    "\n",
    "We start by reading information about the reference state, integrals, and denominators from the file `sr-h2o-cc-pvdz.npy`. The variable `H` is a dictionary that holds the blocks of the Hamiltonian **normal-ordered** with respect to the Hartree–Fock determinant. `invD` similarly is a dictionary that stores the denominators $(\\epsilon_i + \\epsilon_j + \\ldots - \\epsilon_a - \\epsilon_b - \\ldots)^{-1}$."
   ]
  },
  {
   "cell_type": "code",
   "execution_count": 13,
   "metadata": {},
   "outputs": [],
   "source": [
    "molecule = \"sr-h2o-cc-pvdz\"\n",
    "with open(f\"{molecule}.npy\", \"rb\") as f:\n",
    "    Eref = np.load(f)\n",
    "    Ecorr_ref = np.load(f)\n",
    "    nocc, nvir = np.load(f)\n",
    "    H = np.load(f, allow_pickle=True).item()\n",
    "invD = compute_inverse_denominators(H, nocc, nvir, 3)"
   ]
  },
  {
   "cell_type": "markdown",
   "metadata": {},
   "source": [
    "## Define orbital spaces and the Hamiltonian and cluster operators\n",
    "\n",
    "Here we define the cluster operator (`Top`) and the Hamiltonian (`Hop`) that will be used to derive the CCSD equations. We also define the similarity-transformed Hamiltonian $\\bar{H}$ truncated at the four-nested commutator:\n",
    "\n",
    "\\begin{equation}\n",
    "\\bar{H} = \\hat{H} + [\\hat{H},\\hat{T}] + \\frac{1}{2} [[\\hat{H},\\hat{T}],\\hat{T}]\n",
    "+ \\frac{1}{6} [[[\\hat{H},\\hat{T}],\\hat{T}],\\hat{T}]\n",
    "+ \\frac{1}{24} [[[[\\hat{H},\\hat{T}],\\hat{T}],\\hat{T}],\\hat{T}] + \\ldots\n",
    "\\end{equation}\n",
    "\n",
    "To do spin-integration, we simply introduce separate orbital spaces for alpha and beta spinorbitals. We use the convention that small cap letters denote alpha spinorbitals and big cap letters denote beta spinorbitals.\n",
    "\n",
    "We include all the $M_S$-conserving operators in $\\hat{T}$ and $\\hat{H}$. We use the optional argument `unique=True` in the convenience function `w.op` to prevent combinatorically equivalent operators from being included more than once, which would result in incorrect factors."
   ]
  },
  {
   "cell_type": "code",
   "execution_count": 17,
   "metadata": {},
   "outputs": [],
   "source": [
    "w.reset_space()\n",
    "# alpha\n",
    "w.add_space('o', 'fermion', 'occupied', list('ijklmn'))\n",
    "w.add_space('v', 'fermion', 'unoccupied', list('abcdef'))\n",
    "# beta\n",
    "w.add_space('O', 'fermion', 'occupied', list('IJKLMN'))\n",
    "w.add_space('V', 'fermion', 'unoccupied', list('ABCDEF'))\n",
    "\n",
    "Top = w.op(\"T\", [\"v+ o\", \"V+ O\", \"v+ v+ o o\", \"V+ V+ O O\", \"V+ v+ O o\", \"v+ v+ v+ o o o\", \"V+ V+ V+ O O O\", \"v+ v+ V+ o o O\", \"v+ V+ V+ o O O\"], unique=True)\n",
    "Hops = []\n",
    "for i in itertools.product(['v+', 'o+'],['v', 'o']):\n",
    "    Hops.append(' '.join(i))\n",
    "for i in itertools.product(['V+', 'O+'],['V', 'O']):\n",
    "    Hops.append(' '.join(i))\n",
    "for i in itertools.product(['v+', 'o+'],['v+', 'o+'], ['v', 'o'], ['v', 'o']):\n",
    "    Hops.append(' '.join(i))\n",
    "for i in itertools.product(['V+', 'O+'],['V+', 'O+'], ['V', 'O'], ['V', 'O']):\n",
    "    Hops.append(' '.join(i))\n",
    "for i in itertools.product(['v+', 'o+'],['V+', 'O+'], ['v', 'o'], ['V', 'O']):\n",
    "    Hops.append(' '.join(i))\n",
    "Hop = w.op(\"H\", Hops, unique=True)\n"
   ]
  },
  {
   "cell_type": "markdown",
   "metadata": {},
   "source": [
    "In the following lines, we apply Wick's theorem to simplify the similarity-transformed Hamiltonian $\\bar{H}$ computing all contributions ranging from operator rank 0 to 4 (double substitutions).\n",
    "Then we convert all the terms into many-body equations accumulated into the residual `R`."
   ]
  },
  {
   "cell_type": "code",
   "execution_count": 5,
   "metadata": {},
   "outputs": [],
   "source": [
    "wt = w.WickTheorem()\n",
    "expr = wt.contract(w.rational(1), Hbar, 0, 6)\n",
    "mbeq = expr.to_manybody_equation(\"R\")"
   ]
  },
  {
   "cell_type": "markdown",
   "metadata": {},
   "source": [
    "Here we finally generate the CCSD equations. We use the utility function `generate_equation` to extract the equations corresponding to a given number of creation and annihilation operators and generated Python functions that we then define with the command `exec`"
   ]
  },
  {
   "cell_type": "code",
   "execution_count": 11,
   "metadata": {},
   "outputs": [
    {
     "data": {
      "text/plain": [
       "dict_keys(['OOO|VOO', 'OOO|VVO', 'OOO|VVV', 'OOV|VOO', 'OOV|VVO', 'OOV|VVV', 'OO|OO', 'OO|VO', 'OO|VV', 'OVV|VVO', 'OVV|VVV', 'OV|OO', 'OV|VO', 'OV|VV', 'O|O', 'O|V', 'VV|OO', 'VV|VO', 'VV|VV', 'V|O', 'V|V', 'oOO|OOv', 'oOO|VOo', 'oOO|VOv', 'oOO|VVo', 'oOO|VVv', 'oOV|OOv', 'oOV|VOo', 'oOV|VOv', 'oOV|VVo', 'oOV|VVv', 'oO|Oo', 'oO|Ov', 'oO|Vo', 'oO|Vv', 'oVV|VOv', 'oVV|VVv', 'oV|Oo', 'oV|Ov', 'oV|Vo', 'oV|Vv', 'ooO|Ovo', 'ooO|Ovv', 'ooO|Voo', 'ooO|Vvo', 'ooO|Vvv', 'ooV|Ovo', 'ooV|Ovv', 'ooV|Vvo', 'ooV|Vvv', 'ooo|voo', 'ooo|vvo', 'ooo|vvv', 'oov|voo', 'oov|vvo', 'oov|vvv', 'oo|oo', 'oo|vo', 'oo|vv', 'ovO|Ovo', 'ovO|Ovv', 'ovO|Voo', 'ovO|Vvo', 'ovO|Vvv', 'ovV|Ovv', 'ovV|Vvo', 'ovV|Vvv', 'ovv|vvo', 'ovv|vvv', 'ov|oo', 'ov|vo', 'ov|vv', 'o|o', 'o|v', 'vOO|VOo', 'vOO|VOv', 'vOO|VVo', 'vOO|VVv', 'vOV|VOv', 'vOV|VVo', 'vOV|VVv', 'vO|Oo', 'vO|Ov', 'vO|Vo', 'vO|Vv', 'vV|Oo', 'vV|Ov', 'vV|Vo', 'vV|Vv', 'vvO|Vvo', 'vvO|Vvv', 'vv|oo', 'vv|vo', 'vv|vv', 'v|o', 'v|v', '|'])"
      ]
     },
     "execution_count": 11,
     "metadata": {},
     "output_type": "execute_result"
    }
   ],
   "source": [
    "mbeq.keys()"
   ]
  },
  {
   "cell_type": "code",
   "execution_count": 8,
   "metadata": {},
   "outputs": [],
   "source": [
    "energy_eq = generate_equation(mbeq, 0, 0, '|')\n",
    "t1_aa_eq = generate_equation(mbeq, 1, 1, 'o|v')\n",
    "t1_bb_eq = generate_equation(mbeq, 1, 1, 'O|V')\n",
    "t2_aaaa_eq = generate_equation(mbeq, 2, 2, 'oo|vv')\n",
    "t2_bbbb_eq = generate_equation(mbeq, 2, 2, 'OO|VV')\n",
    "t2_abab_eq = generate_equation(mbeq, 2, 2, 'oO|Vv')\n",
    "t3_aaaaaa_eq = generate_equation(mbeq, 3, 3, 'ooo|vvv')\n",
    "t3_bbbbbb_eq = generate_equation(mbeq, 3, 3, 'OOO|VVV')\n",
    "t3_abbabb_eq = generate_equation(mbeq, 3, 3, 'oOO|VVv')\n",
    "t3_aabaab_eq = generate_equation(mbeq, 3, 3, 'ooO|Vvv')\n",
    "exec(energy_eq)\n",
    "exec(t1_aa_eq)\n",
    "exec(t1_bb_eq)\n",
    "exec(t2_aaaa_eq)\n",
    "exec(t2_bbbb_eq)\n",
    "exec(t2_abab_eq)\n",
    "exec(t3_aaaaaa_eq)\n",
    "exec(t3_bbbbbb_eq)\n",
    "exec(t3_abbabb_eq)\n",
    "exec(t3_aabaab_eq)"
   ]
  },
  {
   "cell_type": "markdown",
   "metadata": {},
   "source": [
    "## CCSD algorithm\n",
    "\n",
    "Here we code a simple loop in which we evaluate the energy and residuals of the CCSD equations and update the amplitudes"
   ]
  },
  {
   "cell_type": "code",
   "execution_count": 15,
   "metadata": {},
   "outputs": [
    {
     "name": "stdout",
     "output_type": "stream",
     "text": [
      "-----------------------------------------------------------\n",
      "Iter.     Energy [Eh]    Corr. energy [Eh]       |R|       \n",
      "-----------------------------------------------------------\n",
      "  0    -75.989795787487    +0.000000000000    1.299100e+00\n",
      "  1    -76.204143461766    -0.214347674279    3.759346e-01\n",
      "  2    -76.207264973707    -0.217469186220    7.975060e-02\n",
      "  3    -76.215394719697    -0.225598932210    3.650329e-02\n",
      "  4    -76.216352488277    -0.226556700790    1.574033e-02\n",
      "  5    -76.217257710823    -0.227461923336    8.037161e-03\n",
      "  6    -76.217497462265    -0.227701674778    4.115558e-03\n",
      "  7    -76.217663745121    -0.227867957634    2.262742e-03\n",
      "  8    -76.217724934713    -0.227929147226    1.253725e-03\n",
      "  9    -76.217763354631    -0.227967567144    7.258450e-04\n",
      " 10    -76.217780155499    -0.227984368012    4.219787e-04\n",
      " 11    -76.217790274780    -0.227994487293    2.521932e-04\n",
      " 12    -76.217795220037    -0.227999432550    1.509653e-04\n",
      " 13    -76.217798150031    -0.228002362545    9.184876e-05\n",
      " 14    -76.217799696056    -0.228003908569    5.591663e-05\n",
      " 15    -76.217800610205    -0.228004822718    3.435321e-05\n",
      " 16    -76.217801118934    -0.228005331447    2.111383e-05\n",
      " 17    -76.217801421425    -0.228005633938    1.304261e-05\n",
      " 18    -76.217801596021    -0.228005808534    8.060006e-06\n",
      " 19    -76.217801700716    -0.228005913229    4.995149e-06\n",
      " 20    -76.217801762657    -0.228005975170    3.097020e-06\n",
      " 21    -76.217801800117    -0.228006012630    1.923404e-06\n",
      " 22    -76.217801822649    -0.228006035162    1.195024e-06\n",
      " 23    -76.217801836376    -0.228006048890    7.432547e-07\n",
      " 24    -76.217801844726    -0.228006057239    4.624511e-07\n",
      " 25    -76.217801849842    -0.228006062355    2.879358e-07\n",
      " 26    -76.217801852977    -0.228006065490    1.793393e-07\n",
      " 27    -76.217801854907    -0.228006067420    1.117555e-07\n",
      " 28    -76.217801856095    -0.228006068608    6.966175e-08\n",
      " 29    -76.217801856829    -0.228006069342    4.343902e-08\n",
      " 30    -76.217801857283    -0.228006069796    2.709449e-08\n",
      " 31    -76.217801857564    -0.228006070077    1.690474e-08\n",
      " 32    -76.217801857738    -0.228006070251    1.054962e-08\n",
      " 33    -76.217801857845    -0.228006070359    6.585194e-09\n",
      "-----------------------------------------------------------\n",
      "CCSD total energy                   -76.217801857845 [Eh]\n",
      "CCSD correlation energy             -0.228006070359 [Eh]\n",
      "Reference CCSD correlation energy   -0.228006000000 [Eh]\n",
      "Error                               -7.035856200432e-08 [Eh]\n",
      "Timing                              68.8600 [s]\n"
     ]
    }
   ],
   "source": [
    "T = {\"ov\": np.zeros((nocc, nvir)), \"OV\": np.zeros((nocc,nvir)),\\\n",
    "    \"oovv\": np.zeros((nocc, nocc, nvir, nvir)), \"OOVV\": np.zeros((nocc, nocc, nvir, nvir)), \"oOvV\": np.zeros((nocc, nocc, nvir, nvir)),\\\n",
    "    \"ooovvv\": np.zeros((nocc, nocc, nocc, nvir, nvir, nvir)), \"OOOVVV\": np.zeros((nocc, nocc, nocc, nvir, nvir, nvir)),\\\n",
    "    \"ooOvvV\": np.zeros((nocc, nocc, nocc, nvir, nvir, nvir)), \"oOOvVV\": np.zeros((nocc, nocc, nocc, nvir, nvir, nvir))}\n",
    "\n",
    "header = \"Iter.     Energy [Eh]    Corr. energy [Eh]       |R|       \"\n",
    "print(\"-\" * len(header))\n",
    "print(header)\n",
    "print(\"-\" * len(header))\n",
    "\n",
    "start = time.time()\n",
    "Ecorr_ref = -0.22800600 # from ccpy\n",
    "\n",
    "maxiter = 50\n",
    "\n",
    "for i in range(maxiter):\n",
    "    # 1. compute energy and residuals\n",
    "    R = {}\n",
    "    Ecorr_w = evaluate_residual_(H, T)\n",
    "    Etot_w = Eref + Ecorr_w\n",
    "    R[\"ov\"] = evaluate_residual_ov(H, T)\n",
    "    R[\"OV\"] = evaluate_residual_OV(H, T)\n",
    "    Roovv = evaluate_residual_oovv(H, T)\n",
    "    R[\"oovv\"] = antisymmetrize_residual_2_2(Roovv, nocc, nvir)\n",
    "    ROOVV = evaluate_residual_OOVV(H, T)\n",
    "    R[\"OOVV\"] = antisymmetrize_residual_2_2(ROOVV, nocc, nvir)\n",
    "    R[\"oOvV\"] = evaluate_residual_oOvV(H, T) # no need to antisymmetrize\n",
    "    Rooovvv = evaluate_residual_ooovvv(H, T)\n",
    "    R[\"ooovvv\"] = antisymmetrize_residual_3_3(Rooovvv, nocc, nvir)\n",
    "    ROOOVVV = evaluate_residual_OOOVVV(H, T)\n",
    "    R[\"OOOVVV\"] = antisymmetrize_residual_3_3(ROOOVVV, nocc, nvir)\n",
    "    RooOvvV = evaluate_residual_ooOvvV(H, T)\n",
    "    R[\"ooOvvV\"] = antisymmetrize_residual_3_3_aab(RooOvvV, nocc, nvir)\n",
    "    RoOOvVV = evaluate_residual_oOOvVV(H, T)\n",
    "    R[\"oOOvVV\"] = antisymmetrize_residual_3_3_abb(RoOOvVV, nocc, nvir)\n",
    "\n",
    "    # 2. amplitude update\n",
    "    update_cc_amplitudes(T, R, invD, 3)\n",
    "\n",
    "    # 3. check for convergence\n",
    "    norm_R = np.sqrt(np.linalg.norm(R[\"ov\"]) ** 2 + np.linalg.norm(R[\"OV\"]) ** 2 + \\\n",
    "                    np.linalg.norm(R[\"oovv\"]) ** 2 + np.linalg.norm(R[\"OOVV\"]) ** 2 + np.linalg.norm(R[\"oOvV\"]) ** 2 + \\\n",
    "                    np.linalg.norm(R[\"ooovvv\"]) ** 2 + np.linalg.norm(R[\"OOOVVV\"]) ** 2 + np.linalg.norm(R[\"ooOvvV\"]) ** 2 + np.linalg.norm(R[\"oOOvVV\"]) ** 2)\n",
    "    print(f\"{i:3d}    {Etot_w:+.12f}    {Ecorr_w:+.12f}    {norm_R:e}\")\n",
    "    if norm_R < 1.0e-8:\n",
    "        break\n",
    "\n",
    "end = time.time()\n",
    "t = end - start\n",
    "\n",
    "print(\"-\" * len(header))\n",
    "print(f\"CCSD total energy                   {Etot_w:+.12f} [Eh]\")\n",
    "print(f\"CCSD correlation energy             {Ecorr_w:+.12f} [Eh]\")\n",
    "print(f\"Reference CCSD correlation energy   {Ecorr_ref:+.12f} [Eh]\")\n",
    "print(f\"Error                               {Ecorr_w - Ecorr_ref:+.12e} [Eh]\")\n",
    "print(f\"Timing                              {t:.4f} [s]\")\n",
    "assert np.isclose(Ecorr_w, Ecorr_ref)\n"
   ]
  },
  {
   "cell_type": "markdown",
   "metadata": {},
   "source": [
    "### (Optional) Integral generation\n",
    "For completeness, we document here how `sr-h2o-cc-pvdz.npy` was generated. You will need to install PySCF to run the following cell. Due to the size, we do not provide the cc-pVTZ integrals in the repository, but you can generate it with the cell below and test the speed-up compared to the spinorbital code in the other notebook."
   ]
  },
  {
   "cell_type": "code",
   "execution_count": 8,
   "metadata": {},
   "outputs": [
    {
     "name": "stdout",
     "output_type": "stream",
     "text": [
      "converged SCF energy = -75.9897957874868\n",
      "E(CCSD) = -76.21370580011651  E_corr = -0.2239100126297478\n",
      "E(MP2) = -76.2041434617655  E_corr = -0.214347674278744\n",
      "E(SCS-MP2) = -76.2010219265648  E_corr = -0.211226139078036\n"
     ]
    }
   ],
   "source": [
    "import pyscf, pyscf.cc, pyscf.mp\n",
    "\n",
    "mol = pyscf.gto.M(atom=\"\"\"\n",
    "O \n",
    "H 1 1.1\n",
    "H 1 1.1 2 104\n",
    "\"\"\", basis='cc-pvdz')\n",
    "\n",
    "mf = pyscf.scf.RHF(mol)\n",
    "_ = mf.kernel()\n",
    "cc = pyscf.cc.CCSD(mf)\n",
    "_ = cc.kernel()\n",
    "mp = pyscf.mp.MP2(mf)\n",
    "_ = mp.kernel()\n",
    "\n",
    "nocc = mol.nelectron // 2\n",
    "nvir = mol.nao - nocc\n",
    "\n",
    "eri = pyscf.ao2mo.full(mol.intor('int2e'), mf.mo_coeff)\n",
    "eri = eri.swapaxes(1, 2)\n",
    "\n",
    "blocks = get_index_blocks(energy_eq+t1_aa_eq+t1_bb_eq+t2_aaaa_eq+t2_bbbb_eq+t2_abab_eq)\n",
    "\n",
    "V = eri\n",
    "V_asym = eri - eri.swapaxes(2, 3)\n",
    "F = np.diag(mf.mo_energy)\n",
    "sl = {'o': slice(0, nocc), 'v': slice(nocc, nocc+nvir)}\n",
    "H = {}\n",
    "for block in blocks:\n",
    "    if len(block) == 2:\n",
    "        H[block] = F[sl[block[0].lower()], sl[block[1].lower()]]\n",
    "    else:\n",
    "        abab = (block[0].islower() + block[1].islower() + block[2].islower() + block[3].islower() == 2)\n",
    "        if abab:\n",
    "            H[block] = V[sl[block[0].lower()], sl[block[1].lower()], sl[block[2].lower()], sl[block[3].lower()]]\n",
    "        else:\n",
    "            H[block] = V_asym[sl[block[0].lower()], sl[block[1].lower()], sl[block[2].lower()], sl[block[3].lower()]]\n",
    "\n",
    "with open('sr-h2o-cc-pvdz.npy', 'wb') as f:\n",
    "    np.save(f, mf.e_tot)\n",
    "    np.save(f, cc.e_corr)\n",
    "    np.save(f, (nocc,nvir))\n",
    "    np.save(f, H, allow_pickle=True)"
   ]
  },
  {
   "cell_type": "code",
   "execution_count": null,
   "metadata": {},
   "outputs": [],
   "source": []
  }
 ],
 "metadata": {
  "kernelspec": {
   "display_name": "pyscf",
   "language": "python",
   "name": "python3"
  },
  "language_info": {
   "codemirror_mode": {
    "name": "ipython",
    "version": 3
   },
   "file_extension": ".py",
   "mimetype": "text/x-python",
   "name": "python",
   "nbconvert_exporter": "python",
   "pygments_lexer": "ipython3",
   "version": "3.10.13"
  }
 },
 "nbformat": 4,
 "nbformat_minor": 2
}
