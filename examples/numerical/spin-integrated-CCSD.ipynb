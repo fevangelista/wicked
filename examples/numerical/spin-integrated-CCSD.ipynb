{
 "cells": [
  {
   "cell_type": "markdown",
   "metadata": {},
   "source": [
    "# CCSD theory for a closed-shell reference\n",
    "\n",
    "In this notebook we will use Wick\\&d to generate and implement equations for the spin-integrated CCSD method.\n",
    "To simplify this notebook some of the utility functions are imported from the file `examples_helpers_spin_integrated.py`.\n",
    "In this example, we run a CCSD computation on the H<sub>2</sub>O molecule, reading all the relevant information from the file `sr-h2o-cc-pvdz.npy`."
   ]
  },
  {
   "cell_type": "code",
   "execution_count": 1,
   "metadata": {},
   "outputs": [],
   "source": [
    "import time\n",
    "import wicked as w\n",
    "import numpy as np\n",
    "from examples_helpers_spin_integrated import *\n",
    "import itertools"
   ]
  },
  {
   "cell_type": "markdown",
   "metadata": {},
   "source": [
    "## Read calculation information (integrals, number of orbitals)\n",
    "\n",
    "We start by reading information about the reference state, integrals, and denominators from the file `sr-h2o-cc-pvdz.npy`. The variable `H` is a dictionary that holds the blocks of the Hamiltonian **normal-ordered** with respect to the Hartree–Fock determinant. `invD` similarly is a dictionary that stores the denominators $(\\epsilon_i + \\epsilon_j + \\ldots - \\epsilon_a - \\epsilon_b - \\ldots)^{-1}$."
   ]
  },
  {
   "cell_type": "code",
   "execution_count": 2,
   "metadata": {},
   "outputs": [],
   "source": [
    "molecule = \"sr-h2o-cc-pvdz\"\n",
    "with open(f\"{molecule}.npy\", \"rb\") as f:\n",
    "    Eref = np.load(f)\n",
    "    Ecorr_ref = np.load(f)\n",
    "    nocc, nvir = np.load(f)\n",
    "    H = np.load(f, allow_pickle=True).item()\n",
    "invD = compute_inverse_denominators(H, nocc, nvir, 2)"
   ]
  },
  {
   "cell_type": "markdown",
   "metadata": {},
   "source": [
    "## Define orbital spaces and the Hamiltonian and cluster operators\n",
    "\n",
    "Here we define the cluster operator (`Top`) and the Hamiltonian (`Hop`) that will be used to derive the CCSD equations. We also define the similarity-transformed Hamiltonian $\\bar{H}$ truncated at the four-nested commutator:\n",
    "\n",
    "\\begin{equation}\n",
    "\\bar{H} = \\hat{H} + [\\hat{H},\\hat{T}] + \\frac{1}{2} [[\\hat{H},\\hat{T}],\\hat{T}]\n",
    "+ \\frac{1}{6} [[[\\hat{H},\\hat{T}],\\hat{T}],\\hat{T}]\n",
    "+ \\frac{1}{24} [[[[\\hat{H},\\hat{T}],\\hat{T}],\\hat{T}],\\hat{T}] + \\ldots\n",
    "\\end{equation}\n",
    "\n",
    "To do spin-integration, we simply introduce separate orbital spaces for alpha and beta spinorbitals. We use the convention that small cap letters denote alpha spinorbitals and big cap letters denote beta spinorbitals.\n",
    "\n",
    "We include all the $M_S$-conserving operators in $\\hat{T}$ and $\\hat{H}$. We use the optional argument `unique=True` in the convenience function `w.op` to prevent combinatorically equivalent operators from being included more than once, which would result in incorrect factors."
   ]
  },
  {
   "cell_type": "code",
   "execution_count": 3,
   "metadata": {},
   "outputs": [],
   "source": [
    "w.reset_space()\n",
    "# alpha\n",
    "w.add_space('o', 'fermion', 'occupied', list('ijklmn'))\n",
    "w.add_space('v', 'fermion', 'unoccupied', list('abcdef'))\n",
    "# beta\n",
    "w.add_space('O', 'fermion', 'occupied', list('IJKLMN'))\n",
    "w.add_space('V', 'fermion', 'unoccupied', list('ABCDEF'))\n",
    "\n",
    "Top = w.op(\"T\", [\"v+ o\", \"V+ O\", \"v+ v+ o o\", \"V+ V+ O O\", \"V+ v+ O o\"], unique=True)\n",
    "Hops = []\n",
    "for i in itertools.product(['v+', 'o+'],['v', 'o']):\n",
    "    Hops.append(' '.join(i))\n",
    "for i in itertools.product(['V+', 'O+'],['V', 'O']):\n",
    "    Hops.append(' '.join(i))\n",
    "for i in itertools.product(['v+', 'o+'],['v+', 'o+'], ['v', 'o'], ['v', 'o']):\n",
    "    Hops.append(' '.join(i))\n",
    "for i in itertools.product(['V+', 'O+'],['V+', 'O+'], ['V', 'O'], ['V', 'O']):\n",
    "    Hops.append(' '.join(i))\n",
    "for i in itertools.product(['v+', 'o+'],['V+', 'O+'], ['v', 'o'], ['V', 'O']):\n",
    "    Hops.append(' '.join(i))\n",
    "Hop = w.op(\"H\", Hops, unique=True)\n",
    "Hbar = w.bch_series(Hop, Top, 4)"
   ]
  },
  {
   "cell_type": "markdown",
   "metadata": {},
   "source": [
    "In the following lines, we apply Wick's theorem to simplify the similarity-transformed Hamiltonian $\\bar{H}$ computing all contributions ranging from operator rank 0 to 4 (double substitutions).\n",
    "Then we convert all the terms into many-body equations accumulated into the residual `R`."
   ]
  },
  {
   "cell_type": "code",
   "execution_count": 4,
   "metadata": {},
   "outputs": [],
   "source": [
    "wt = w.WickTheorem()\n",
    "expr = wt.contract(w.rational(1), Hbar, 0, 4)\n",
    "mbeq = expr.to_manybody_equation(\"R\")"
   ]
  },
  {
   "cell_type": "markdown",
   "metadata": {},
   "source": [
    "Here we finally generate the CCSD equations. We use the utility function `generate_equation` to extract the equations corresponding to a given number of creation and annihilation operators and generated Python functions that we then define with the command `exec`"
   ]
  },
  {
   "cell_type": "code",
   "execution_count": 5,
   "metadata": {},
   "outputs": [],
   "source": [
    "energy_eq = generate_equation(mbeq, 0, 0, '|')\n",
    "t1_aa_eq = generate_equation(mbeq, 1, 1, 'o|v')\n",
    "t1_bb_eq = generate_equation(mbeq, 1, 1, 'O|V')\n",
    "t2_aaaa_eq = generate_equation(mbeq, 2, 2, 'oo|vv')\n",
    "t2_bbbb_eq = generate_equation(mbeq, 2, 2, 'OO|VV')\n",
    "t2_abab_eq = generate_equation(mbeq, 2, 2, 'oO|Vv')\n",
    "exec(energy_eq)\n",
    "exec(t1_aa_eq)\n",
    "exec(t1_bb_eq)\n",
    "exec(t2_aaaa_eq)\n",
    "exec(t2_bbbb_eq)\n",
    "exec(t2_abab_eq)"
   ]
  },
  {
   "cell_type": "markdown",
   "metadata": {},
   "source": [
    "## CCSD algorithm\n",
    "\n",
    "Here we code a simple loop in which we evaluate the energy and residuals of the CCSD equations and update the amplitudes"
   ]
  },
  {
   "cell_type": "code",
   "execution_count": 6,
   "metadata": {},
   "outputs": [
    {
     "name": "stdout",
     "output_type": "stream",
     "text": [
      "-----------------------------------------------------------\n",
      "Iter.     Energy [Eh]    Corr. energy [Eh]       |R|       \n",
      "-----------------------------------------------------------\n",
      "  0    -75.989795787487    +0.000000000000    1.299100e+00\n",
      "  1    -76.204143461766    -0.214347674279    1.722778e-01\n",
      "  2    -76.207264973707    -0.217469186220    4.253534e-02\n",
      "  3    -76.211865730825    -0.222069943338    1.868229e-02\n",
      "  4    -76.212864167040    -0.223068379554    8.304716e-03\n",
      "  5    -76.213350138227    -0.223554350740    3.961553e-03\n",
      "  6    -76.213541063949    -0.223745276462    1.959698e-03\n",
      "  7    -76.213628949546    -0.223833162059    1.002226e-03\n",
      "  8    -76.213668687064    -0.223872899577    5.318052e-04\n",
      "  9    -76.213687566001    -0.223891778515    2.909445e-04\n",
      " 10    -76.213696641243    -0.223900853756    1.637721e-04\n",
      " 11    -76.213701122859    -0.223905335373    9.419992e-05\n",
      " 12    -76.213703376304    -0.223907588817    5.510109e-05\n",
      " 13    -76.213704534002    -0.223908746515    3.261440e-05\n",
      " 14    -76.213705140200    -0.223909352713    1.946729e-05\n",
      " 15    -76.213705463754    -0.223909676267    1.168666e-05\n",
      " 16    -76.213705639520    -0.223909852033    7.043447e-06\n",
      " 17    -76.213705736583    -0.223909949096    4.256402e-06\n",
      " 18    -76.213705790981    -0.223910003494    2.576887e-06\n",
      " 19    -76.213705821869    -0.223910034382    1.562041e-06\n",
      " 20    -76.213705839608    -0.223910052121    9.476853e-07\n",
      " 21    -76.213705849895    -0.223910062408    5.752998e-07\n",
      " 22    -76.213705855910    -0.223910068423    3.493843e-07\n",
      " 23    -76.213705859451    -0.223910071964    2.122449e-07\n",
      " 24    -76.213705861547    -0.223910074061    1.289608e-07\n",
      " 25    -76.213705862795    -0.223910075308    7.836805e-08\n",
      " 26    -76.213705863539    -0.223910076053    4.762805e-08\n",
      " 27    -76.213705863986    -0.223910076499    2.894784e-08\n",
      " 28    -76.213705864254    -0.223910076767    1.759505e-08\n",
      " 29    -76.213705864415    -0.223910076928    1.069496e-08\n",
      " 30    -76.213705864512    -0.223910077025    6.500975e-09\n",
      "-----------------------------------------------------------\n",
      "CCSD total energy                   -76.213705864512 [Eh]\n",
      "CCSD correlation energy             -0.223910077025 [Eh]\n",
      "Reference CCSD correlation energy   -0.223910012630 [Eh]\n",
      "Error                               -6.439574376516e-08 [Eh]\n",
      "Timing                              1.1973 [s]\n"
     ]
    }
   ],
   "source": [
    "T = {\"ov\": np.zeros((nocc, nvir)), \"OV\": np.zeros((nocc,nvir)),\\\n",
    "      \"oovv\": np.zeros((nocc, nocc, nvir, nvir)), \"OOVV\": np.zeros((nocc, nocc, nvir, nvir)), \"oOvV\": np.zeros((nocc, nocc, nvir, nvir))}\n",
    "\n",
    "header = \"Iter.     Energy [Eh]    Corr. energy [Eh]       |R|       \"\n",
    "print(\"-\" * len(header))\n",
    "print(header)\n",
    "print(\"-\" * len(header))\n",
    "\n",
    "start = time.time()\n",
    "\n",
    "maxiter = 50\n",
    "\n",
    "for i in range(maxiter):\n",
    "    # 1. compute energy and residuals\n",
    "    R = {}\n",
    "    Ecorr_w = evaluate_residual_(H, T)\n",
    "    Etot_w = Eref + Ecorr_w\n",
    "    R[\"ov\"] = evaluate_residual_ov(H, T)\n",
    "    R[\"OV\"] = evaluate_residual_OV(H, T)\n",
    "    Roovv = evaluate_residual_oovv(H, T)\n",
    "    R[\"oovv\"] = antisymmetrize_residual_2_2(Roovv, nocc, nvir)\n",
    "    ROOVV = evaluate_residual_OOVV(H, T)\n",
    "    R[\"OOVV\"] = antisymmetrize_residual_2_2(ROOVV, nocc, nvir)\n",
    "    R[\"oOvV\"] = evaluate_residual_oOvV(H, T) # no need to antisymmetrize\n",
    "\n",
    "    # 2. amplitude update\n",
    "    update_cc_amplitudes(T, R, invD, 2)\n",
    "\n",
    "    # 3. check for convergence\n",
    "    norm_R = np.sqrt(np.linalg.norm(R[\"ov\"]) ** 2 + np.linalg.norm(R[\"OV\"]) ** 2 + np.linalg.norm(R[\"oovv\"]) ** 2 + np.linalg.norm(R[\"OOVV\"]) ** 2 + np.linalg.norm(R[\"oOvV\"]) ** 2)\n",
    "    print(f\"{i:3d}    {Etot_w:+.12f}    {Ecorr_w:+.12f}    {norm_R:e}\")\n",
    "    if norm_R < 1.0e-8:\n",
    "        break\n",
    "\n",
    "end = time.time()\n",
    "t = end - start\n",
    "\n",
    "print(\"-\" * len(header))\n",
    "print(f\"CCSD total energy                   {Etot_w:+.12f} [Eh]\")\n",
    "print(f\"CCSD correlation energy             {Ecorr_w:+.12f} [Eh]\")\n",
    "print(f\"Reference CCSD correlation energy   {Ecorr_ref:+.12f} [Eh]\")\n",
    "print(f\"Error                               {Ecorr_w - Ecorr_ref:+.12e} [Eh]\")\n",
    "print(f\"Timing                              {t:.4f} [s]\")\n",
    "assert np.isclose(Ecorr_w, Ecorr_ref)\n"
   ]
  },
  {
   "cell_type": "markdown",
   "metadata": {},
   "source": [
    "### (Optional) Integral generation\n",
    "For completeness, we document here how `sr-h2o-cc-pvdz.npy` was generated. You will need to install PySCF to run the following cell. Due to the size, we do not provide the cc-pVTZ integrals in the repository, but you can generate it with the cell below and test the speed-up compared to the spinorbital code in the other notebook."
   ]
  },
  {
   "cell_type": "code",
   "execution_count": 7,
   "metadata": {},
   "outputs": [
    {
     "name": "stdout",
     "output_type": "stream",
     "text": [
      "converged SCF energy = -75.9897957874869\n",
      "E(CCSD) = -76.2137058001166  E_corr = -0.2239100126297485\n",
      "E(MP2) = -76.2041434617656  E_corr = -0.214347674278743\n",
      "E(SCS-MP2) = -76.2010219265649  E_corr = -0.211226139078036\n"
     ]
    }
   ],
   "source": [
    "import pyscf, pyscf.cc, pyscf.mp\n",
    "\n",
    "mol = pyscf.gto.M(atom=\"\"\"\n",
    "O \n",
    "H 1 1.1\n",
    "H 1 1.1 2 104\n",
    "\"\"\", basis='cc-pvdz')\n",
    "\n",
    "mf = pyscf.scf.RHF(mol)\n",
    "_ = mf.kernel()\n",
    "cc = pyscf.cc.CCSD(mf)\n",
    "_ = cc.kernel()\n",
    "mp = pyscf.mp.MP2(mf)\n",
    "_ = mp.kernel()\n",
    "\n",
    "nocc = mol.nelectron // 2\n",
    "nvir = mol.nao - nocc\n",
    "\n",
    "eri = pyscf.ao2mo.full(mol.intor('int2e'), mf.mo_coeff)\n",
    "eri = eri.swapaxes(1, 2)\n",
    "\n",
    "blocks = get_index_blocks(energy_eq+t1_aa_eq+t1_bb_eq+t2_aaaa_eq+t2_bbbb_eq+t2_abab_eq)\n",
    "\n",
    "V = eri\n",
    "V_asym = eri - eri.swapaxes(2, 3)\n",
    "F = np.diag(mf.mo_energy)\n",
    "sl = {'o': slice(0, nocc), 'v': slice(nocc, nocc+nvir)}\n",
    "H = {}\n",
    "for block in blocks:\n",
    "    if len(block) == 2:\n",
    "        H[block] = F[sl[block[0].lower()], sl[block[1].lower()]]\n",
    "    else:\n",
    "        abab = (block[0].islower() + block[1].islower() + block[2].islower() + block[3].islower() == 2)\n",
    "        if abab:\n",
    "            H[block] = V[sl[block[0].lower()], sl[block[1].lower()], sl[block[2].lower()], sl[block[3].lower()]]\n",
    "        else:\n",
    "            H[block] = V_asym[sl[block[0].lower()], sl[block[1].lower()], sl[block[2].lower()], sl[block[3].lower()]]\n",
    "\n",
    "with open('sr-h2o-cc-pvdz.npy', 'wb') as f:\n",
    "    np.save(f, mf.e_tot)\n",
    "    np.save(f, cc.e_corr)\n",
    "    np.save(f, (nocc,nvir))\n",
    "    np.save(f, H, allow_pickle=True)"
   ]
  },
  {
   "cell_type": "code",
   "execution_count": null,
   "metadata": {},
   "outputs": [],
   "source": []
  }
 ],
 "metadata": {
  "kernelspec": {
   "display_name": "pyscf",
   "language": "python",
   "name": "python3"
  },
  "language_info": {
   "codemirror_mode": {
    "name": "ipython",
    "version": 3
   },
   "file_extension": ".py",
   "mimetype": "text/x-python",
   "name": "python",
   "nbconvert_exporter": "python",
   "pygments_lexer": "ipython3",
   "version": "3.10.13"
  }
 },
 "nbformat": 4,
 "nbformat_minor": 2
}
