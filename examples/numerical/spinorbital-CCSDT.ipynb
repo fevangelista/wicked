{
 "cells": [
  {
   "cell_type": "markdown",
   "id": "81579bfa",
   "metadata": {},
   "source": [
    "# CCSDT theory for a closed-shell reference\n",
    "\n",
    "This notebook extends the `spinorbital-CCSD` notebook to compute CCSDT"
   ]
  },
  {
   "cell_type": "markdown",
   "id": "1601889d",
   "metadata": {},
   "source": [
    "## Read calculation information (integrals, number of orbitals)\n",
    "\n",
    "We start by reading information about the reference state, integrals, and denominators from the file `sr-h6-sto-3g.npy`. The variable `H` is a dictionary that holds the blocks of the Hamiltonian **normal-ordered** with respect to the Hartree–Fock determinant. `invD` similarly is a dictionary that stores the denominators $(\\epsilon_i + \\epsilon_j + \\ldots - \\epsilon_a - \\epsilon_b - \\ldots)^{-1}$."
   ]
  },
  {
   "cell_type": "code",
   "execution_count": 2,
   "id": "3f8328a7",
   "metadata": {},
   "outputs": [],
   "source": [
    "molecule = \"sr-h6-sto-3g\"\n",
    "\n",
    "with open(f\"{molecule}.npy\", \"rb\") as f:\n",
    "    Eref = np.load(f)\n",
    "    nocc, nvir = np.load(f)\n",
    "    H = np.load(f, allow_pickle=True).item()\n",
    "\n",
    "invD = compute_inverse_denominators(H, nocc, nvir, 3)"
   ]
  },
  {
   "cell_type": "code",
   "execution_count": 1,
   "id": "caa5d04c",
   "metadata": {},
   "outputs": [],
   "source": [
    "import time\n",
    "import wicked as w\n",
    "import numpy as np\n",
    "from examples_helpers import *"
   ]
  },
  {
   "cell_type": "markdown",
   "id": "5b57b4a2",
   "metadata": {},
   "source": [
    "## Define orbital spaces and the Hamiltonian and cluster operators"
   ]
  },
  {
   "cell_type": "code",
   "execution_count": null,
   "id": "67ccf97e",
   "metadata": {},
   "outputs": [],
   "source": [
    "w.reset_space()\n",
    "w.add_space(\"o\", \"fermion\", \"occupied\", [\"i\", \"j\", \"k\", \"l\", \"m\", \"n\"])\n",
    "w.add_space(\"v\", \"fermion\", \"unoccupied\", [\"a\", \"b\", \"c\", \"d\", \"e\", \"f\"])\n",
    "\n",
    "Top = w.op(\"T\", [\"v+ o\", \"v+ v+ o o\", \"v+ v+ v+ o o o\"])\n",
    "\n",
    "Hop = w.utils.gen_op(\"H\", 1, \"ov\", \"ov\") + w.utils.gen_op(\"H\", 2, \"ov\", \"ov\")\n",
    "\n",
    "# the similarity-transformed Hamiltonian truncated to the four-nested commutator term\n",
    "Hbar = w.bch_series(Hop, Top, 4)"
   ]
  },
  {
   "cell_type": "markdown",
   "id": "abf2dc84",
   "metadata": {},
   "source": [
    "In the following lines, we apply Wick's theorem to simplify the similarity-transformed Hamiltonian $\\bar{H}$ computing all contributions ranging from operator rank 0 to 6 (triple substitutions).\n",
    "Then we convert all the terms into many-body equations accumulated into the residual `R`."
   ]
  },
  {
   "cell_type": "code",
   "execution_count": null,
   "id": "9c56be6b",
   "metadata": {},
   "outputs": [],
   "source": [
    "wt = w.WickTheorem()\n",
    "expr = wt.contract(w.rational(1), Hbar, 0, 6)\n",
    "mbeq = expr.to_manybody_equation(\"R\")"
   ]
  },
  {
   "cell_type": "markdown",
   "id": "7c1a291b",
   "metadata": {},
   "source": [
    "Here we generate the CCSDT equations."
   ]
  },
  {
   "cell_type": "code",
   "execution_count": null,
   "id": "9e117a39",
   "metadata": {},
   "outputs": [],
   "source": [
    "energy_eq = generate_equation(mbeq, 0, 0)\n",
    "t1_eq = generate_equation(mbeq, 1, 1)\n",
    "t2_eq = generate_equation(mbeq, 2, 2)\n",
    "t3_eq = generate_equation(mbeq, 3, 3)\n",
    "\n",
    "exec(energy_eq)\n",
    "exec(t1_eq)\n",
    "exec(t2_eq)\n",
    "exec(t3_eq)\n",
    "\n",
    "# show what do these functions look like\n",
    "print(energy_eq)"
   ]
  },
  {
   "cell_type": "markdown",
   "id": "e3b8cb04",
   "metadata": {},
   "source": [
    "## CCSDT algorithm\n",
    "\n",
    "Here we code a simple loop in which we evaluate the energy and residuals of the CCSD equations and update the amplitudes"
   ]
  },
  {
   "cell_type": "code",
   "execution_count": null,
   "id": "b1183237",
   "metadata": {},
   "outputs": [],
   "source": [
    "Ecorr_ref = -0.108354659115  # from forte sparse implementation\n",
    "\n",
    "T = {\n",
    "    \"ov\": np.zeros((nocc, nvir)),\n",
    "    \"oovv\": np.zeros((nocc, nocc, nvir, nvir)),\n",
    "    \"ooovvv\": np.zeros((nocc, nocc, nocc, nvir, nvir, nvir)),\n",
    "}\n",
    "\n",
    "header = \"Iter.     Energy [Eh]    Corr. energy [Eh]       |R|       \"\n",
    "print(\"-\" * len(header))\n",
    "print(header)\n",
    "print(\"-\" * len(header))\n",
    "\n",
    "start = time.perf_counter()\n",
    "\n",
    "maxiter = 50\n",
    "\n",
    "for i in range(maxiter):\n",
    "    # 1. compute energy and residuals\n",
    "    R = {}\n",
    "    Ecorr_w = evaluate_residual_0_0(H, T)\n",
    "    Etot_w = Eref + Ecorr_w\n",
    "    R[\"ov\"] = evaluate_residual_1_1(H, T)\n",
    "    Roovv = evaluate_residual_2_2(H, T)\n",
    "    R[\"oovv\"] = antisymmetrize_residual_2_2(Roovv, nocc, nvir)\n",
    "    Rooovvv = evaluate_residual_3_3(H, T)\n",
    "    R[\"ooovvv\"] = antisymmetrize_residual_3_3(Rooovvv, nocc, nvir)\n",
    "\n",
    "    # 2. amplitude update\n",
    "    update_cc_amplitudes(T, R, invD, 3)\n",
    "\n",
    "    # 3. check for convergence\n",
    "    norm_R = np.sqrt(np.linalg.norm(R[\"ov\"]) ** 2 + np.linalg.norm(R[\"oovv\"]) ** 2)\n",
    "    print(f\"{i:3d}    {Etot_w:+.12f}    {Ecorr_w:+.12f}    {norm_R:e}\")\n",
    "    if norm_R < 1.0e-8:\n",
    "        break\n",
    "\n",
    "end = time.perf_counter()\n",
    "t = end - start\n",
    "\n",
    "print(\"-\" * len(header))\n",
    "print(f\"CCSDT total energy                   {Etot_w:+.12f} [Eh]\")\n",
    "print(f\"CCSDT correlation energy             {Ecorr_w:+.12f} [Eh]\")\n",
    "print(f\"Reference CCSDT correlation energy   {Ecorr_ref:+.12f} [Eh]\")\n",
    "print(f\"Error                               {Ecorr_w - Ecorr_ref:+.12e} [Eh]\")\n",
    "print(f\"Timing                              {t:+.12e} [s]\")\n",
    "assert np.isclose(Ecorr_w, Ecorr_ref)"
   ]
  },
  {
   "cell_type": "code",
   "execution_count": null,
   "id": "6d862d52-69c0-4236-b047-c2d6c750771b",
   "metadata": {},
   "outputs": [],
   "source": []
  }
 ],
 "metadata": {
  "kernelspec": {
   "display_name": "Python 3 (ipykernel)",
   "language": "python",
   "name": "python3"
  },
  "language_info": {
   "codemirror_mode": {
    "name": "ipython",
    "version": 3
   },
   "file_extension": ".py",
   "mimetype": "text/x-python",
   "name": "python",
   "nbconvert_exporter": "python",
   "pygments_lexer": "ipython3",
   "version": "3.11.8"
  }
 },
 "nbformat": 4,
 "nbformat_minor": 5
}
